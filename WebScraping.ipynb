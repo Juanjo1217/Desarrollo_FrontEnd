{
  "nbformat": 4,
  "nbformat_minor": 0,
  "metadata": {
    "colab": {
      "provenance": []
    },
    "kernelspec": {
      "name": "python3",
      "display_name": "Python 3"
    },
    "language_info": {
      "name": "python"
    }
  },
  "cells": [
    {
      "cell_type": "code",
      "source": [
        "import requests\n",
        "from bs4 import BeautifulSoup"
      ],
      "metadata": {
        "id": "ul9MC-7IVYRw"
      },
      "execution_count": 23,
      "outputs": []
    },
    {
      "cell_type": "code",
      "source": [
        "url = \"https://www.bbc.com/mundo/topics/c67q9nnn8z7t\"\n",
        "url2 = \"https://www.microsoft.com/es-co\"\n",
        "response = requests.get(url)\n",
        "\n",
        "if response.status_code == 200:\n",
        "    soup = BeautifulSoup(response.content, \"html.parser\")\n",
        "    h1_count = len(soup.find_all(\"h1\"))\n",
        "    h2_count = len(soup.find_all(\"h2\"))\n",
        "    h3_count = len(soup.find_all(\"h3\"))\n",
        "    print(f\"del url {url} se encontró\")\n",
        "    print(f\"Cantidad de <h1>: {h1_count}\")\n",
        "    print(f\"Cantidad de <h2>: {h2_count}\")\n",
        "    print(f\"Cantidad de <h3>: {h3_count}\")\n",
        "else:\n",
        "    print(\"No se pudo acceder a la página.\")"
      ],
      "metadata": {
        "id": "ktlQZFyFujr1",
        "colab": {
          "base_uri": "https://localhost:8080/"
        },
        "outputId": "ae86aa2a-3d3c-4215-c79b-7f1e675ddc0b"
      },
      "execution_count": 30,
      "outputs": [
        {
          "output_type": "stream",
          "name": "stdout",
          "text": [
            "del url https://www.bbc.com/mundo/topics/c67q9nnn8z7t se encontró\n",
            "Cantidad de <h1>: 1\n",
            "Cantidad de <h2>: 24\n",
            "Cantidad de <h3>: 0\n"
          ]
        }
      ]
    }
  ]
}